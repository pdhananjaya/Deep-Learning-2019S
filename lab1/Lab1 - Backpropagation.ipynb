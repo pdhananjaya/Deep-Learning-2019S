{
 "cells": [
  {
   "cell_type": "markdown",
   "metadata": {},
   "source": [
    "# 0660836 - Dhananjaya"
   ]
  },
  {
   "cell_type": "markdown",
   "metadata": {},
   "source": [
    "# Requirements\n",
    "\n",
    "1. Implement simple neural network with two hidden layers\n",
    "2. No usage of frameworks (e.g. Tensorflow, PyTorch, Keras etc..)\n",
    "   - usage of numpy and other standard python libraries are allowed\n",
    "3. Plot the figure and compare the predicted results and ground truths\n",
    "\n",
    "![](img/our_network.png)\n",
    "<h4><center> Fig: Network to implement </center></h1>  "
   ]
  },
  {
   "cell_type": "markdown",
   "metadata": {},
   "source": [
    "# Implementation Details\n",
    "![Forward pass](img/forward_pass.png)\n",
    "<h4><center> Fig: Forward Pass </center></h1> \n",
    "\n",
    "## Implementation Parameters\n",
    "1. $x_1$, $x_2$ : neural network inputs\n",
    "2. $X$: [$x_1$,$x_2$]\n",
    "3. $y$: neural network output\n",
    "4. $\\hat{y}$: ground truth\n",
    "5. $L({\\theta}$): loss function(MSE $=$ $E(|\\hat{y} - y|^2)$\n",
    "6. $W_1$, $W_2$, $W_3$: weight matrix of network layers\n"
   ]
  },
  {
   "cell_type": "code",
   "execution_count": 1,
   "metadata": {},
   "outputs": [],
   "source": [
    "import numpy as np\n",
    "import matplotlib.pyplot as plt"
   ]
  },
  {
   "cell_type": "markdown",
   "metadata": {},
   "source": [
    "# Dataset (Linear, XOR)\n",
    "Output: Binary classification (0 or 1)"
   ]
  },
  {
   "cell_type": "code",
   "execution_count": 2,
   "metadata": {},
   "outputs": [],
   "source": [
    "def generate_linear(n=100):\n",
    "    import numpy as np\n",
    "    pts = np.random.uniform(0, 1, (n,2))\n",
    "    inputs = []\n",
    "    labels = []\n",
    "    for pt in pts:\n",
    "        inputs.append([pt[0], pt[1]])\n",
    "        distance = (pt[0] - pt[1])/1.414\n",
    "        if pt[0] > pt[1]:\n",
    "            labels.append(0)\n",
    "        else:\n",
    "            labels.append(1)\n",
    "            \n",
    "    return np.array(inputs), np.array(labels).reshape(n,1)\n",
    "\n",
    "def generate_XOR_easy():\n",
    "    import numpy as np\n",
    "    inputs = []\n",
    "    labels = []\n",
    "    \n",
    "    for i in range(11):\n",
    "        inputs.append([0.1*i, 0.1*i])\n",
    "        labels.append(0)\n",
    "        \n",
    "        if 0.1*i == 0.5:\n",
    "            continue\n",
    "        \n",
    "        inputs.append([0.1*i, 1 - 0.1*i])\n",
    "        labels.append(1)\n",
    "    \n",
    "    return np.array(inputs), np.array(labels).reshape(21, 1)"
   ]
  },
  {
   "cell_type": "code",
   "execution_count": 3,
   "metadata": {},
   "outputs": [],
   "source": [
    "def show_result(x, y, pred_y):\n",
    "    import matplotlib.pyplot as plt\n",
    "    plt.figure()\n",
    "    plt.subplot(1,2,1)\n",
    "    plt.title('Ground truth', fontsize = 18)\n",
    "    for i in range(x.shape[0]):\n",
    "        if y[i] == 0:\n",
    "            plt.plot(x[i][0], x[i][1], 'ro')\n",
    "        else:\n",
    "            plt.plot(x[i][0], x[i][1], 'bo')\n",
    "            \n",
    "    plt.subplot(1,2,2)\n",
    "    plt.title('Predict result', fontsize = 18)\n",
    "    pred_y = np.round(pred_y)\n",
    "    for i in range(x.shape[0]):\n",
    "        if pred_y[i] == 0:\n",
    "            plt.plot(x[i][0], x[i][1], 'ro')\n",
    "        else:\n",
    "            plt.plot(x[i][0], x[i][1], 'bo')\n",
    "    plt.show()\n",
    "\n",
    "def show_data(x, y, a, b):\n",
    "    plt.subplot(1,2,1)\n",
    "    plt.title('Linear Data', fontsize = 18)\n",
    "    for i in range(x.shape[0]):\n",
    "        if y[i] == 0:\n",
    "            plt.plot(x[i][0], x[i][1], 'ro')\n",
    "        else:\n",
    "            plt.plot(x[i][0], x[i][1], 'bo')\n",
    "            \n",
    "    plt.subplot(1,2,2)\n",
    "    plt.title('XOR Data', fontsize = 18)\n",
    "    for i in range(a.shape[0]):\n",
    "        if b[i] == 0:\n",
    "            plt.plot(a[i][0], a[i][1], 'ro')\n",
    "        else:\n",
    "            plt.plot(a[i][0], a[i][1], 'bo')\n",
    "    plt.show()\n",
    "            "
   ]
  },
  {
   "cell_type": "code",
   "execution_count": 4,
   "metadata": {},
   "outputs": [],
   "source": [
    "x1, y1 = generate_linear(n=100)\n",
    "x2, y2 = generate_XOR_easy()"
   ]
  },
  {
   "cell_type": "code",
   "execution_count": 5,
   "metadata": {},
   "outputs": [
    {
     "data": {
      "image/png": "[encoded data removed]",
      "text/plain": [
       "<Figure size 432x288 with 2 Axes>"
      ]
     },
     "metadata": {
      "needs_background": "light"
     },
     "output_type": "display_data"
    }
   ],
   "source": [
    "show_data(x1, y1, x2, y2)"
   ]
  },
  {
   "cell_type": "markdown",
   "metadata": {},
   "source": [
    "# Implementation\n",
    "\n",
    "Artificial neural networks recreate the structure of human neurons to process information resulting in much  more accurate results than previously used regression models\n",
    "\n",
    "A neural network is made up of three main parts:\n",
    "![](img/nn.png)\n",
    "<h4><center> Fig: A simple 2-hidden layer network </center></h4>\n",
    "\n",
    "\n",
    "__Input layer__: This is the layer that inputs inforamtion for the neural network to process. Each circle represents single feature.\n",
    "\n",
    "__Hidden layers__: These are the major processing component of neural network. These nodes receive information from the previous layers, multiply weight and then add bias to it and process through an activation function.\n",
    "\n",
    "__Output layer__: This layer provide the output of the neural network. It processes all the information from the last hidden layer and gives the output as a confidence score or classification score."
   ]
  },
  {
   "cell_type": "markdown",
   "metadata": {},
   "source": [
    "## Mathematical formulation\n",
    "y = output\n",
    "\n",
    "x: inputs of the layer\n",
    "\n",
    "w: weights of the layer\n",
    "\n",
    "b: bias of the layer\n",
    "    \n",
    "$z = w^Tx + b$,\n",
    "\n",
    "$y = \\sigma(z)$\n"
   ]
  },
  {
   "cell_type": "markdown",
   "metadata": {},
   "source": [
    "## Backpropagation\n",
    "\n",
    "The weights are randomly initialized to converge and optimize the neural network better. A better form of intitializing the weights are _Kaiming He_ initialization to converge better\n",
    "\n",
    "Gradient descent ($\\frac{\\partial C}{\\partial w}$) is used to update the weights\n",
    "\n",
    "It is calculated using chain rules:\n",
    "$$\\frac{\\partial C}{\\partial w} = \\frac{\\partial z}{\\partial w}\\frac{\\partial C}{\\partial z}$$\n",
    "\n",
    "### Forward gradient\n",
    "\n",
    "$\\frac{\\partial z}{\\partial w}$ as `forward_gradient` during `forward pass`\n",
    "\n",
    "\n",
    "### Backward gradient\n",
    "\n",
    "$$\\frac{\\partial C}{\\partial z} = \\frac{\\partial y}{\\partial z}\\frac{\\partial C}{\\partial y}$$\n",
    "\n",
    "$$y = \\sigma(z), \\space \\frac{\\partial y}{\\partial z}=\\sigma'(z)$$\n",
    "\n",
    "To obtain $\\frac{\\partial C}{\\partial y}$ consider two cases.\n",
    "\n",
    "- output layer:\n",
    "\n",
    "$C$ is come from $L(\\theta)$ and $y$ is network output and $\\hat{y}$ is groundtruth.\n",
    "\n",
    "$$ C = L(y, \\hat{y}) \\\\ \\frac{\\partial C}{\\partial y} = L'(y, \\hat{y}) $$\n",
    "\n",
    "We compute derivative loss function and then use it as backward input.\n",
    "\n",
    "- hidden layer:\n",
    "\n",
    "In this case, $\\frac{\\partial C}{\\partial y}$ is more diffcult than other.\n",
    "\n",
    "The output $y$ of current layer is input for next layer.\n",
    "We assume that $\\frac{\\partial C}{\\partial z_{next}}$ already know.\n",
    "\n",
    "$$\\frac{\\partial C}{\\partial y_{this}} = \\frac{\\partial z_{next}}{\\partial y_{this}}\\frac{\\partial C}{\\partial z_{next}} $$\n",
    "\n",
    "$$ \\frac{\\partial z_{next}}{\\partial y_{this}} = w_{next}^T , z_{next} = y_{this}w_{next}$$\n",
    "\n",
    "Finally, we first compute output layer and then send parameters to previous layer.\n",
    "Thus we can compute $\\frac{\\partial C}{\\partial z}$ every layer.\n",
    "\n",
    "### Gradient Descent\n",
    "\n",
    "After getting $\\frac{\\partial C}{\\partial w}$ from backpropagation, we update the network weights $w$.\n",
    "\n",
    "Hyperparameter called learning rate $\\eta$ decides the rate pf learning.\n",
    "\n",
    "$$ w = w - \\eta \\Delta w$$\n"
   ]
  },
  {
   "cell_type": "markdown",
   "metadata": {},
   "source": [
    "## Activation function (sigmoid)\n",
    "\n",
    "Sigmoid function is used as activation function in this neural network\n",
    "\n",
    "sigmoid of x: $$\\sigma(x) = \\frac{1}{1+e^{-x}}$$\n",
    "\n",
    "derivation of sigmoid(x):\n",
    "\n",
    "$$ \\sigma'(x) = \\frac{d (1 + e^{-x})^{-1}}{d x} $$\n",
    "\n",
    "$$ = - (1 + e^{-x})^2 \\frac{d}{dx} (1 + e^{-x}) $$\n",
    "\n",
    "$$ = - (1 + e^{-x})^2 (-e^{-x}) $$\n",
    "\n",
    "$$ = \\sigma(x)(1 - \\sigma(x))$$\n",
    "\n"
   ]
  },
  {
   "cell_type": "code",
   "execution_count": 6,
   "metadata": {},
   "outputs": [],
   "source": [
    "def sigmoid(x):\n",
    "    return 1.0/(1.0 + np.exp(-x))\n",
    "\n",
    "def derivative_sigmoid(x):\n",
    "    return np.multiply(x, 1.0 - x)"
   ]
  },
  {
   "cell_type": "code",
   "execution_count": 7,
   "metadata": {},
   "outputs": [
    {
     "data": {
      "text/plain": [
       "<matplotlib.legend.Legend at 0x7f7faef7b2e8>"
      ]
     },
     "execution_count": 7,
     "metadata": {},
     "output_type": "execute_result"
    },
    {
     "data": {
      "image/png": "[encoded data removed]",
      "text/plain": [
       "<Figure size 432x288 with 1 Axes>"
      ]
     },
     "metadata": {
      "needs_background": "light"
     },
     "output_type": "display_data"
    }
   ],
   "source": [
    "x = np.linspace(-5, 5, 100)\n",
    "plt.plot(x, sigmoid(x), label = 'sigmoid')\n",
    "plt.plot(x, derivative_sigmoid(sigmoid(x)), label = 'derivative of sigmoid')\n",
    "plt.legend()"
   ]
  },
  {
   "cell_type": "markdown",
   "metadata": {},
   "source": [
    "## Loss function $L({\\theta})$ - Mean Square Error function\n",
    "\n",
    "Mean Square Error function:\n",
    "$$ L(y, \\hat{y}) =  MSE(y, \\hat{y}) = E((y - \\hat{y})^2) = \\frac{\\sum(y - \\hat{y})^2}{N}$$\n",
    "\n",
    "$$ L'(y, \\hat{y}) = \\frac{\\partial E((y - \\hat{y})^2)}{\\partial y} $$\n",
    "\n",
    "$$ = \\frac{1}{N}(\\frac{\\partial (y - \\hat{y})^2}{\\partial y}) $$\n",
    "\n",
    "$$ = \\frac{1}{N}(2(y - \\hat{y})\\frac{\\partial (y - \\hat{y})}{\\partial y}) $$\n",
    "\n",
    "$$ = \\frac{2}{N}(y - \\hat{y})$$"
   ]
  },
  {
   "cell_type": "code",
   "execution_count": 8,
   "metadata": {},
   "outputs": [],
   "source": [
    "def loss(y, y_hat):\n",
    "    return np.mean((y - y_hat)**2)\n",
    "\n",
    "def derivative_loss(y, y_hat):\n",
    "    return ((y - y_hat)*(2/y.shape[0]))"
   ]
  },
  {
   "cell_type": "markdown",
   "metadata": {},
   "source": [
    "# Modularized Code \n",
    "\n",
    "Class layer contains the initialization of weights using np.random.normal with zero mean and unit variance, forward pass, backward pass and update of weights in a single layer.\n",
    "\n",
    "The class layer contain\n",
    "- __init__: *Kaiming He* initialization of weights (zero mean and unit variance)\n",
    "- __forward__: computes the forward pass\n",
    "- __backward__: computer the backward pass\n",
    "\n",
    "![](img/forward_backward.png)\n",
    "<h4><center> Fig: Forward and Backward pass </center></h4>\n",
    "\n",
    "- __update__: updates the weights of the layer"
   ]
  },
  {
   "cell_type": "code",
   "execution_count": 9,
   "metadata": {},
   "outputs": [],
   "source": [
    "class single_layer():\n",
    "    def __init__(self, in_size, out_size):\n",
    "        self.weight = np.random.normal(0, 1, (in_size+1, out_size))\n",
    "        \n",
    "    def forward(self, x):\n",
    "        x = np.append(x, np.ones((x.shape[0], 1)), axis = 1)\n",
    "        self.forward_grad = x\n",
    "        self.y = sigmoid(np.matmul(x, self.weight))\n",
    "        return self.y\n",
    "    \n",
    "    def backward(self, d_C):\n",
    "        self.backward_grad = np.multiply(derivative_sigmoid(self.y), d_C)\n",
    "        return np.matmul(self.backward_grad, self.weight[:-1].T)\n",
    "    \n",
    "    def update(self, learning_rate):\n",
    "        self.grad = np.matmul(self.forward_grad.T, self.backward_grad)\n",
    "        self.weight -= learning_rate * self.grad\n",
    "        return self.grad"
   ]
  },
  {
   "cell_type": "markdown",
   "metadata": {},
   "source": [
    "## modularized neural network structure\n",
    "\n",
    "It contains:\n",
    "- forward block: computes the forward pass\n",
    "- backward block: computes the backward pass\n",
    "- update block: updates the weights"
   ]
  },
  {
   "cell_type": "code",
   "execution_count": 10,
   "metadata": {},
   "outputs": [],
   "source": [
    "class neural_net():\n",
    "    def __init__(self, sizes, learning_rate = 0.1):\n",
    "        self.learning_rate = learning_rate\n",
    "        sizes2 = sizes[1:] + [0]\n",
    "        self.layers = []\n",
    "        for a,b in zip(sizes, sizes2):\n",
    "            print('layer size',a, b)\n",
    "\n",
    "            if b == 0:\n",
    "                continue\n",
    "            self.layers += [single_layer(a,b)]\n",
    "            \n",
    "    def forward(self, x):\n",
    "        _x = x\n",
    "        for layers in self.layers:\n",
    "            _x = layers.forward(_x)\n",
    "        return _x\n",
    "    \n",
    "    def backward(self, dC):\n",
    "        _dC = dC\n",
    "        for layers in self.layers[::-1]:\n",
    "            _dC = layers.backward(_dC)\n",
    "            \n",
    "    def update(self):\n",
    "        gradients = []\n",
    "        for layers in self.layers:\n",
    "            gradients += [layers.update(self.learning_rate)]\n",
    "        return gradients"
   ]
  },
  {
   "cell_type": "markdown",
   "metadata": {},
   "source": [
    "# Testing results"
   ]
  },
  {
   "cell_type": "code",
   "execution_count": 11,
   "metadata": {},
   "outputs": [
    {
     "name": "stdout",
     "output_type": "stream",
     "text": [
      "layer size 2 4\n",
      "layer size 4 4\n",
      "layer size 4 1\n",
      "layer size 1 0\n",
      "layer size 2 4\n",
      "layer size 4 4\n",
      "layer size 4 1\n",
      "layer size 1 0\n",
      "[   0] linear loss : 0.2488 \t XOR loss : 0.2542\n",
      "[ 200] linear loss : 0.1515 \t XOR loss : 0.2493\n",
      "[ 400] linear loss : 0.0510 \t XOR loss : 0.2493\n",
      "[ 600] linear loss : 0.0278 \t XOR loss : 0.2492\n",
      "[ 800] linear loss : 0.0190 \t XOR loss : 0.2491\n",
      "[1000] linear loss : 0.0143 \t XOR loss : 0.2490\n",
      "[1200] linear loss : 0.0113 \t XOR loss : 0.2488\n",
      "[1400] linear loss : 0.0093 \t XOR loss : 0.2486\n",
      "[1600] linear loss : 0.0078 \t XOR loss : 0.2483\n",
      "[1800] linear loss : 0.0066 \t XOR loss : 0.2478\n",
      "[2000] linear loss : 0.0057 \t XOR loss : 0.2470\n",
      "[2200] linear loss : 0.0050 \t XOR loss : 0.2457\n",
      "Convergence - Linear Network\n",
      "[2400] linear loss : 0.0050 \t XOR loss : 0.2435\n",
      "[2600] linear loss : 0.0050 \t XOR loss : 0.2394\n",
      "[2800] linear loss : 0.0050 \t XOR loss : 0.2323\n",
      "[3000] linear loss : 0.0050 \t XOR loss : 0.2208\n",
      "[3200] linear loss : 0.0050 \t XOR loss : 0.2042\n",
      "[3400] linear loss : 0.0050 \t XOR loss : 0.1742\n",
      "[3600] linear loss : 0.0050 \t XOR loss : 0.1223\n",
      "[3800] linear loss : 0.0050 \t XOR loss : 0.0846\n",
      "[4000] linear loss : 0.0050 \t XOR loss : 0.0635\n",
      "[4200] linear loss : 0.0050 \t XOR loss : 0.0508\n",
      "[4400] linear loss : 0.0050 \t XOR loss : 0.0423\n",
      "[4600] linear loss : 0.0050 \t XOR loss : 0.0359\n",
      "[4800] linear loss : 0.0050 \t XOR loss : 0.0308\n",
      "[5000] linear loss : 0.0050 \t XOR loss : 0.0264\n",
      "[5200] linear loss : 0.0050 \t XOR loss : 0.0226\n",
      "[5400] linear loss : 0.0050 \t XOR loss : 0.0192\n",
      "[5600] linear loss : 0.0050 \t XOR loss : 0.0163\n",
      "[5800] linear loss : 0.0050 \t XOR loss : 0.0137\n",
      "[6000] linear loss : 0.0050 \t XOR loss : 0.0115\n",
      "[6200] linear loss : 0.0050 \t XOR loss : 0.0096\n",
      "[6400] linear loss : 0.0050 \t XOR loss : 0.0081\n",
      "[6600] linear loss : 0.0050 \t XOR loss : 0.0069\n",
      "[6800] linear loss : 0.0050 \t XOR loss : 0.0059\n",
      "[7000] linear loss : 0.0050 \t XOR loss : 0.0050\n",
      "Convergence - XOR Networ\n",
      "[7011] linear loss : 0.0050 \t XOR loss : 0.0050\n",
      "Linear network and XOR network converged\n"
     ]
    }
   ],
   "source": [
    "nn_linear = neural_net([2,4,4,1], 0.6)\n",
    "nn_XOR = neural_net([2,4,4,1], 0.6 )\n",
    "epoch = 100000\n",
    "loss_threshold = 0.005\n",
    "linear_stop = False\n",
    "XOR_stop = False\n",
    "\n",
    "for i in range(epoch):\n",
    "    if not linear_stop:\n",
    "        y = nn_linear.forward(x1)\n",
    "        loss_linear = loss(y, y1)\n",
    "        nn_linear.backward(derivative_loss(y, y1))\n",
    "        nn_linear.update()\n",
    "        \n",
    "        if loss_linear < loss_threshold:\n",
    "            print('Convergence - Linear Network')\n",
    "            linear_stop = True\n",
    "    \n",
    "    if not XOR_stop:\n",
    "        y = nn_XOR.forward(x2)\n",
    "        loss_XOR = loss(y, y2)\n",
    "        nn_XOR.backward(derivative_loss(y, y2))\n",
    "        nn_XOR.update()\n",
    "        \n",
    "        if loss_XOR < loss_threshold:\n",
    "            print('Convergence - XOR Networ')\n",
    "            XOR_stop = True\n",
    "\n",
    "    if i%200 == 0 or (linear_stop and XOR_stop):\n",
    "        print(\n",
    "            '[{:4d}] linear loss : {:.4f} \\t XOR loss : {:.4f}'.format(\n",
    "                i, loss_linear, loss_XOR))\n",
    "        \n",
    "    if linear_stop and XOR_stop:\n",
    "        print('Linear network and XOR network converged')\n",
    "        break\n",
    "        "
   ]
  },
  {
   "cell_type": "code",
   "execution_count": 12,
   "metadata": {},
   "outputs": [
    {
     "data": {
      "image/png": "[encoded data removed]",
      "text/plain": [
       "<Figure size 432x288 with 2 Axes>"
      ]
     },
     "metadata": {
      "needs_background": "light"
     },
     "output_type": "display_data"
    },
    {
     "data": {
      "image/png": "[encoded data removed]",
      "text/plain": [
       "<Figure size 432x288 with 2 Axes>"
      ]
     },
     "metadata": {
      "needs_background": "light"
     },
     "output_type": "display_data"
    }
   ],
   "source": [
    "y_linear = nn_linear.forward(x1)\n",
    "show_result(x1, y1, y_linear)\n",
    "y_XOR = nn_XOR.forward(x2)\n",
    "show_result(x2, y2, y_XOR)"
   ]
  },
  {
   "cell_type": "code",
   "execution_count": 13,
   "metadata": {},
   "outputs": [
    {
     "name": "stdout",
     "output_type": "stream",
     "text": [
      "Accuracy of linear network: 100.0\n",
      "Accuracy of XOR network: 100.0\n",
      "\n",
      " linear test result : \n",
      " [[0.99423074]\n",
      " [0.99237107]\n",
      " [0.99378967]\n",
      " [0.21910747]\n",
      " [0.00286956]\n",
      " [0.00783756]\n",
      " [0.99272846]\n",
      " [0.00398722]\n",
      " [0.0095762 ]\n",
      " [0.98251446]\n",
      " [0.99173254]\n",
      " [0.98820931]\n",
      " [0.99129953]\n",
      " [0.99218216]\n",
      " [0.98271571]\n",
      " [0.00712675]\n",
      " [0.00422006]\n",
      " [0.99426605]\n",
      " [0.00234086]\n",
      " [0.12736867]\n",
      " [0.00614709]\n",
      " [0.00439732]\n",
      " [0.80420961]\n",
      " [0.00802724]\n",
      " [0.02101109]\n",
      " [0.99258463]\n",
      " [0.98770506]\n",
      " [0.00211439]\n",
      " [0.00263255]\n",
      " [0.99062526]\n",
      " [0.0308413 ]\n",
      " [0.02476503]\n",
      " [0.76418696]\n",
      " [0.00230019]\n",
      " [0.88113789]\n",
      " [0.99201338]\n",
      " [0.00242715]\n",
      " [0.0028523 ]\n",
      " [0.99429985]\n",
      " [0.00268497]\n",
      " [0.03036693]\n",
      " [0.99160709]\n",
      " [0.99149151]\n",
      " [0.04525401]\n",
      " [0.9924689 ]\n",
      " [0.99003103]\n",
      " [0.99211157]\n",
      " [0.01412969]\n",
      " [0.99350112]\n",
      " [0.9931029 ]\n",
      " [0.13051635]\n",
      " [0.99378579]\n",
      " [0.99364546]\n",
      " [0.00263129]\n",
      " [0.01351788]\n",
      " [0.02352174]\n",
      " [0.00398002]\n",
      " [0.98801044]\n",
      " [0.98563088]\n",
      " [0.98728183]\n",
      " [0.00304005]\n",
      " [0.20638044]\n",
      " [0.00757726]\n",
      " [0.97967639]\n",
      " [0.18205451]\n",
      " [0.02654965]\n",
      " [0.99450749]\n",
      " [0.00971221]\n",
      " [0.01883219]\n",
      " [0.17924398]\n",
      " [0.0022645 ]\n",
      " [0.99256879]\n",
      " [0.98679239]\n",
      " [0.07058342]\n",
      " [0.00362951]\n",
      " [0.79727178]\n",
      " [0.97848565]\n",
      " [0.99402662]\n",
      " [0.96341534]\n",
      " [0.99344618]\n",
      " [0.00425486]\n",
      " [0.04404043]\n",
      " [0.97365943]\n",
      " [0.002735  ]\n",
      " [0.96032019]\n",
      " [0.7100388 ]\n",
      " [0.98924392]\n",
      " [0.86091617]\n",
      " [0.002143  ]\n",
      " [0.00255213]\n",
      " [0.01831818]\n",
      " [0.00287289]\n",
      " [0.93176534]\n",
      " [0.9662878 ]\n",
      " [0.98487506]\n",
      " [0.12145267]\n",
      " [0.99084313]\n",
      " [0.05302638]\n",
      " [0.1084208 ]\n",
      " [0.01020073]]\n",
      "\n",
      " XOR test result : \n",
      " [[0.00994093]\n",
      " [0.99986644]\n",
      " [0.0052672 ]\n",
      " [0.99981374]\n",
      " [0.00488621]\n",
      " [0.99958483]\n",
      " [0.0146394 ]\n",
      " [0.99669772]\n",
      " [0.09201201]\n",
      " [0.82111317]\n",
      " [0.17804044]\n",
      " [0.09800978]\n",
      " [0.85432306]\n",
      " [0.03479304]\n",
      " [0.99798469]\n",
      " [0.0141641 ]\n",
      " [0.99905904]\n",
      " [0.00755263]\n",
      " [0.99886248]\n",
      " [0.00498994]\n",
      " [0.99825573]]\n"
     ]
    }
   ],
   "source": [
    "count1 = 0\n",
    "for i in range(y1.shape[0]):\n",
    "    if np.round(y1[i]) == np.round(y_linear[i]):\n",
    "        count1 += 1\n",
    "print('Accuracy of linear network:',count1*100/y1.shape[0])\n",
    "\n",
    "count2 = 0\n",
    "for i in range(y2.shape[0]):\n",
    "    if np.round(y2[i]) == np.round(y_XOR[i]):\n",
    "        count2 += 1\n",
    "print('Accuracy of XOR network:',count2*100/y2.shape[0])\n",
    "\n",
    "print('\\n linear test result : \\n',y_linear)\n",
    "print('\\n XOR test result : \\n',y_XOR)"
   ]
  },
  {
   "cell_type": "markdown",
   "metadata": {},
   "source": [
    "# Discussion"
   ]
  },
  {
   "cell_type": "markdown",
   "metadata": {},
   "source": [
    "The single layer perceptron can't classify XOR data because it is a linear classifier.\n",
    "\n",
    "The multi-layer neural network can classify the XOR because it is non-linear in nature."
   ]
  },
  {
   "cell_type": "code",
   "execution_count": 16,
   "metadata": {},
   "outputs": [
    {
     "name": "stdout",
     "output_type": "stream",
     "text": [
      "layer size 2 4\n",
      "layer size 4 4\n",
      "layer size 4 4\n",
      "layer size 4 1\n",
      "layer size 1 0\n",
      "layer size 2 4\n",
      "layer size 4 4\n",
      "layer size 4 4\n",
      "layer size 4 1\n",
      "layer size 1 0\n",
      "[   0] linear loss : 0.2760 \t XOR loss : 0.2979\n",
      "[ 200] linear loss : 0.2487 \t XOR loss : 0.2494\n",
      "[ 400] linear loss : 0.2400 \t XOR loss : 0.2494\n",
      "[ 600] linear loss : 0.1459 \t XOR loss : 0.2494\n",
      "[ 800] linear loss : 0.0395 \t XOR loss : 0.2493\n",
      "[1000] linear loss : 0.0194 \t XOR loss : 0.2493\n",
      "[1200] linear loss : 0.0123 \t XOR loss : 0.2492\n",
      "[1400] linear loss : 0.0086 \t XOR loss : 0.2491\n",
      "[1600] linear loss : 0.0064 \t XOR loss : 0.2490\n",
      "Convergence - Linear Network\n",
      "[1800] linear loss : 0.0050 \t XOR loss : 0.2489\n",
      "[2000] linear loss : 0.0050 \t XOR loss : 0.2487\n",
      "[2200] linear loss : 0.0050 \t XOR loss : 0.2485\n",
      "[2400] linear loss : 0.0050 \t XOR loss : 0.2482\n",
      "[2600] linear loss : 0.0050 \t XOR loss : 0.2477\n",
      "[2800] linear loss : 0.0050 \t XOR loss : 0.2469\n",
      "[3000] linear loss : 0.0050 \t XOR loss : 0.2456\n",
      "[3200] linear loss : 0.0050 \t XOR loss : 0.2430\n",
      "[3400] linear loss : 0.0050 \t XOR loss : 0.2381\n",
      "[3600] linear loss : 0.0050 \t XOR loss : 0.2282\n",
      "[3800] linear loss : 0.0050 \t XOR loss : 0.2124\n",
      "[4000] linear loss : 0.0050 \t XOR loss : 0.1850\n",
      "[4200] linear loss : 0.0050 \t XOR loss : 0.1107\n",
      "[4400] linear loss : 0.0050 \t XOR loss : 0.0625\n",
      "[4600] linear loss : 0.0050 \t XOR loss : 0.0424\n",
      "[4800] linear loss : 0.0050 \t XOR loss : 0.0451\n",
      "[5000] linear loss : 0.0050 \t XOR loss : 0.0374\n",
      "[5200] linear loss : 0.0050 \t XOR loss : 0.0295\n",
      "[5400] linear loss : 0.0050 \t XOR loss : 0.0144\n",
      "[5600] linear loss : 0.0050 \t XOR loss : 0.0083\n",
      "[5800] linear loss : 0.0050 \t XOR loss : 0.0060\n",
      "Convergence - XOR Networ\n",
      "[5927] linear loss : 0.0050 \t XOR loss : 0.0050\n",
      "Linear network and XOR network converged\n"
     ]
    }
   ],
   "source": [
    "nn_linear = neural_net([2,4,4,4,1], 0.6)\n",
    "nn_XOR = neural_net([2,4, 4,4,1], 0.6 )\n",
    "epoch = 100000\n",
    "loss_threshold = 0.005\n",
    "linear_stop = False\n",
    "XOR_stop = False\n",
    "\n",
    "for i in range(epoch):\n",
    "    if not linear_stop:\n",
    "        y = nn_linear.forward(x1)\n",
    "        loss_linear = loss(y, y1)\n",
    "        nn_linear.backward(derivative_loss(y, y1))\n",
    "        nn_linear.update()\n",
    "        \n",
    "        if loss_linear < loss_threshold:\n",
    "            print('Convergence - Linear Network')\n",
    "            linear_stop = True\n",
    "    \n",
    "    if not XOR_stop:\n",
    "        y = nn_XOR.forward(x2)\n",
    "        loss_XOR = loss(y, y2)\n",
    "        nn_XOR.backward(derivative_loss(y, y2))\n",
    "        nn_XOR.update()\n",
    "        \n",
    "        if loss_XOR < loss_threshold:\n",
    "            print('Convergence - XOR Networ')\n",
    "            XOR_stop = True\n",
    "\n",
    "    if i%200 == 0 or (linear_stop and XOR_stop):\n",
    "        print(\n",
    "            '[{:4d}] linear loss : {:.4f} \\t XOR loss : {:.4f}'.format(\n",
    "                i, loss_linear, loss_XOR))\n",
    "        \n",
    "    if linear_stop and XOR_stop:\n",
    "        print('Linear network and XOR network converged')\n",
    "        break\n",
    "        "
   ]
  },
  {
   "cell_type": "markdown",
   "metadata": {},
   "source": [
    "When the network is bigger, it takes more time to converge (optimize).\n",
    "\n",
    "Sometime bigger network converge faster than the smaller network."
   ]
  },
  {
   "cell_type": "markdown",
   "metadata": {},
   "source": [
    "# Conclusion\n",
    "\n",
    "From the above results, it concludes that the change in network structure can alter in the output as well as the latency of the output. There is a tradeoff between those hyperparameters such as learning rate etc.."
   ]
  },
  {
   "cell_type": "markdown",
   "metadata": {},
   "source": [
    "# Usage\n",
    "\n",
    "To run the program:\n",
    "\n",
    "    >> python3 lab1.py\n",
    "  In case anything goes wrong, please contact me for checking\n",
    "  \n",
    "  Email: panga.dhananjaya@gmail.com"
   ]
  }
 ],
 "metadata": {
  "kernelspec": {
   "display_name": ".env",
   "language": "python",
   "name": ".env"
  },
  "language_info": {
   "codemirror_mode": {
    "name": "ipython",
    "version": 3
   },
   "file_extension": ".py",
   "mimetype": "text/x-python",
   "name": "python",
   "nbconvert_exporter": "python",
   "pygments_lexer": "ipython3",
   "version": "3.7.3"
  }
 },
 "nbformat": 4,
 "nbformat_minor": 2
}
