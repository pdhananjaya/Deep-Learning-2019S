{
 "cells": [
  {
   "cell_type": "markdown",
   "metadata": {},
   "source": [
    "# 0660836 - Dhananjaya"
   ]
  },
  {
   "cell_type": "markdown",
   "metadata": {},
   "source": [
    "# Requirements\n",
    "\n",
    "1. Implement EEGNet and DeepConvNet with three kinds of actication function (i.e. ReLU, LeakyReLU, ELU)\n",
    "2. Show the highest accuracy of two architectures with three actication functions\n",
    "3. Visualize the accuracy trend during training and testing phase"
   ]
  },
  {
   "cell_type": "markdown",
   "metadata": {},
   "source": [
    "# Introduction\n",
    "\n",
    "EEG (Electroencephalography) is an electrophysical monitoring method to record electrical activity of the brain. EEG signals are used to monitor brain activities and brain related diseases.\n",
    "\n",
    "In this lab, I implemented different CNN architectures (i.e. EEGNet, DeepConvNet) with three type of activation functions namely ReLU, LeakyReLU and ELU to perform EEG classification task and compare the performances.\n",
    "\n",
    "## Dataset\n",
    "EEG-data is recorded from three different subjects during a BCI experiment. The experiment consists of 3 sessions for each subject. The EEG signals were sampled with 125 Hz, it was filtered between 0.5 - 30 Hz with notchfilter on.\n",
    "\n",
    "![](img/dataset.PNG)\n",
    "<h4><center> Fig: EEG Dataset with two channels </center></h1> "
   ]
  },
  {
   "cell_type": "markdown",
   "metadata": {},
   "source": [
    "# Experimental Setup\n",
    "\n",
    "## EEGNet\n",
    "EEGNet consists of three layers. First layer is a 2D convolution layer functions as feature extractor outputting feature maps form the EEG signals at different bandpass frequencies. Second layer, DepthwiseConv2D to learn a spatial filter, reducing the number of trainable parameters. Finally, third layer SeparableConv2D learns the temporal summary for each feature map individually followed by pointwise convolution which earns how to optimally mix the feature maps together.\n",
    "\n",
    "![](img/eegnet.PNG)\n",
    "<h4><center> Fig: EEGNet architecture </center></h1> \n",
    "\n",
    "## DeepConvNet\n",
    "DeepConvNet is a CNN based architecture consists of multiple stacked convolution layers with activation layers, pooling layers.\n",
    "![](img/cnn.PNG)\n",
    "<h4><center> Fig: Example of DeepConvNet architecture </center></h1> "
   ]
  },
  {
   "cell_type": "code",
   "execution_count": 27,
   "metadata": {
    "ExecuteTime": {
     "end_time": "2019-08-12T22:24:49.111946Z",
     "start_time": "2019-08-12T22:24:49.075384Z"
    }
   },
   "outputs": [
    {
     "name": "stdout",
     "output_type": "stream",
     "text": [
      "torch.Size([64, 2])\n",
      "Number of parameters: 17810\n"
     ]
    }
   ],
   "source": [
    "class EEGNet(nn.Module):\n",
    "    def __init__(self, activation_name='ELU', dropout_ratio=0.5):\n",
    "        super(EEGNet, self).__init__()\n",
    "        self.activation_name = activation_name\n",
    "        self.conv_1 = nn.Sequential(\n",
    "            nn.Conv2d(1, 16, kernel_size=(1, 51), stride=(1,1), padding=(0,25), bias=False),\n",
    "            nn.BatchNorm2d(16),\n",
    "        )\n",
    "        self.depthwise_conv = nn.Sequential(\n",
    "            nn.Conv2d(16, 32, kernel_size=(2, 1), stride=(1,1), groups=16, bias=False),\n",
    "            get_activation_function(activation_name),\n",
    "            nn.AvgPool2d(kernel_size=(1,4), stride=(1,4), padding=0),\n",
    "            nn.Dropout(p=dropout_ratio),\n",
    "        )\n",
    "        self.separable_conv = nn.Sequential(\n",
    "            nn.Conv2d(32, 32, kernel_size=(1, 15), stride=(1,1), padding=(0,7),bias=False),\n",
    "            nn.BatchNorm2d(32),\n",
    "            get_activation_function(activation_name),\n",
    "            nn.AvgPool2d(kernel_size=(1,8), stride=(1,8), padding=0), \n",
    "            nn.Dropout(p=dropout_ratio),\n",
    "        )\n",
    "        self.classifier = nn.Sequential(\n",
    "            nn.Linear(in_features=736, out_features=2, bias=True)\n",
    "        )\n",
    "        \n",
    "    def forward(self, x):\n",
    "        out = self.conv_1(x)\n",
    "        out = self.depthwise_conv(out)\n",
    "        out = self.separable_conv(out)\n",
    "        out = out.view(-1, 736) # flattern\n",
    "        out = self.classifier(out)\n",
    "        return out\n",
    "    \n",
    "    def get_activation_name(self):\n",
    "        return self.activation_name\n",
    "\n",
    "net = EEGNet(activation_name='ReLU')\n",
    "x = torch.randn((64, 1, 2, 750))\n",
    "out = net(x)\n",
    "print(out.shape)\n",
    "model_parameters = filter(lambda p: p.requires_grad, net.parameters())\n",
    "params = sum([np.prod(p.size()) for p in model_parameters])\n",
    "print('Number of parameters:',params)"
   ]
  },
  {
   "cell_type": "code",
   "execution_count": 29,
   "metadata": {
    "ExecuteTime": {
     "end_time": "2019-08-12T22:35:10.254270Z",
     "start_time": "2019-08-12T22:35:10.226491Z"
    }
   },
   "outputs": [
    {
     "name": "stdout",
     "output_type": "stream",
     "text": [
      "Number of parameters 150977\n"
     ]
    }
   ],
   "source": [
    "class DeepConvNet(nn.Module):\n",
    "    def __init__(self, activation_name='ELU',dropout_ratio=0.5):\n",
    "        super(DeepConvNet, self).__init__()\n",
    "        self.activation_name = activation_name\n",
    "        self.conv_1 = nn.Sequential(\n",
    "            nn.Conv2d(1, 25, kernel_size=(1, 5), bias=True),\n",
    "            nn.Conv2d(25, 25, kernel_size=(2, 1), bias=True),\n",
    "            nn.BatchNorm2d(25),\n",
    "            get_activation_function(activation_name),\n",
    "            nn.MaxPool2d(kernel_size=(1,2), stride=(1,2), padding=0),\n",
    "            nn.Dropout(p=dropout_ratio),\n",
    "        )\n",
    "        self.conv_2 = nn.Sequential(\n",
    "            nn.Conv2d(25, 50, kernel_size=(1, 5), bias=True),\n",
    "            nn.BatchNorm2d(50),\n",
    "            get_activation_function(activation_name),\n",
    "            nn.MaxPool2d(kernel_size=(1,2), stride=(1,2), padding=0),\n",
    "            nn.Dropout(p=dropout_ratio),\n",
    "        )\n",
    "        self.conv_3 = nn.Sequential(\n",
    "            nn.Conv2d(50, 100, kernel_size=(1, 5), bias=True),\n",
    "            nn.BatchNorm2d(100),\n",
    "            get_activation_function(activation_name),\n",
    "            nn.MaxPool2d(kernel_size=(1,2), stride=(1,2), padding=0),\n",
    "            nn.Dropout(p=dropout_ratio),\n",
    "        )\n",
    "        self.conv_4 = nn.Sequential(\n",
    "            nn.Conv2d(100, 200, kernel_size=(1, 5), bias=True),\n",
    "            nn.BatchNorm2d(200),\n",
    "            get_activation_function(activation_name),\n",
    "            nn.MaxPool2d(kernel_size=(1,2), stride=(1,2), padding=0),\n",
    "            nn.Dropout(p=dropout_ratio),\n",
    "        )\n",
    "        self.fc = nn.Linear(8600, 2)\n",
    "        \n",
    "    def forward(self, x):\n",
    "        out = self.conv_1(x)\n",
    "        out = self.conv_2(out)\n",
    "        out = self.conv_3(out)\n",
    "        out = self.conv_4(out)\n",
    "        out = out.view(x.shape[0], -1)\n",
    "        out = self.fc(out)\n",
    "        return out\n",
    "    \n",
    "    def get_activation_name(self):\n",
    "        return self.activation_name\n",
    "\n",
    "    \n",
    "net = DeepConvNet(activation_name='ReLU')\n",
    "x = torch.randn((1, 1, 2, 750))\n",
    "out = net(x)\n",
    "\n",
    "model_parameters = filter(lambda p: p.requires_grad, net.parameters())\n",
    "params = sum([np.prod(p.size()) for p in model_parameters])\n",
    "print('Number of parameters',params)"
   ]
  },
  {
   "cell_type": "markdown",
   "metadata": {},
   "source": [
    "## Activation Function\n",
    "\n",
    "ReLU (Rectified Linear Unit) is the popular choice of hidden unit because of nonlinear in nature and any function can be approximated with combinations of ReLU. It is also computationally efficient due to the simpler mathematical operations. The demerit of the RelU is that the vanishing gradient in negative area which results in zeroing the updating parameters.\n",
    "\n",
    "LeakyReLU have a small slope instead of zero in the negative part of the axis. ELU (Exponential Linear Units) is also another choice which have small gradient but will saturate when input is more negative. Practically, LeakyReLU and ELU is more computationally intensive than ReLU.\n",
    "\n",
    "![](img/activation.PNG)\n",
    "<h4><center> Fig: Different Activation Functions </center></h1> "
   ]
  },
  {
   "cell_type": "code",
   "execution_count": 26,
   "metadata": {
    "ExecuteTime": {
     "end_time": "2019-08-12T22:23:14.186837Z",
     "start_time": "2019-08-12T22:23:14.001030Z"
    }
   },
   "outputs": [
    {
     "data": {
      "image/png": "[encoded data removed]",
      "text/plain": [
       "<Figure size 432x288 with 1 Axes>"
      ]
     },
     "metadata": {
      "needs_background": "light"
     },
     "output_type": "display_data"
    }
   ],
   "source": []
  },
  {
   "cell_type": "markdown",
   "metadata": {},
   "source": [
    "# Experimental Result\n",
    "\n",
    "## Training Setting\n",
    "I trained the EEGNet with batch size of 256 for 800 epochs. SGD optimizer is used with a momentum of 0.5 and the initial learning rate is set to 0.1.\n",
    "\n",
    "For DeepConvNet, I use batch size of 128 for 800 epochs with a learning rate of 0.05 and SGD optimizer with a momentum of 0.5.\n",
    "\n",
    "## Accuracy\n",
    "Accuraccy of 88.33% was acheived with LeakyRelu as an activation function.  EEGNet contains 17.8k tunable parameters whereas DeepConvNet contains 150k tunable parameters.\n",
    "\n",
    "| - | EEGNet | DeepConvNet |\n",
    "| --- | --- | --- |\n",
    "|Parameters|17.8k|150k|\n",
    "\n",
    "Hyperparameter setting:\n",
    "- number of epochs: 800\n",
    "- batch size: 256 (EEGNet), 128 (DeepConvNet)\n",
    "- learning rate: 0.1 (EEGNet), 0.05 (DeepConvNet)\n",
    "- optimizer: SGD with momentum of 0.5\n",
    "- criterion(loss): CrossEntropy\n",
    "\n",
    "| Activation | EEGNet | DeepConvNet |\n",
    "| --- | --- | --- |\n",
    "| ReLU | 87.81% | 77.96% |\n",
    "| LeakyReLU | 88.33% | 79.25% |\n",
    "| ELU | 81.66 | 79.81% |\n",
    "\n",
    "### Highest Accuracy Plots\n",
    "![](img/eeg_highest.PNG)\n",
    "<h4><center> Fig: Highest testing accuracy of 88.33%  </center></h1>\n",
    "\n",
    "![](img/deep_highest_80_8.PNG)\n",
    "<h4><center> Fig: Highest testing accuracy of 79.44%  </center></h1>\n",
    "\n",
    "## Accuracy Trend\n",
    "\n",
    "Different architecture (i.e EEGNet, DeepConvNet) yields varied range of test accuracies with different activation functions (i.e. ReLU, LeakyReLU, ELU). LeakyReLU as an activation function on EEGNet achieves the highest accuracy of 88.33% while other activation function on EEGNet gives substantial accuracies. LeakyReLU on DeepConvNet achieves highest accuracy of 79.81% while other activation function gave reduced accuracies.\n",
    "\n",
    "![](img/eeg_activation.PNG)\n",
    "<h4><center> Fig: Accuracies of EEG Network with different activation function </center></h1>\n",
    "\n",
    "![](img/deep_activation.PNG)\n",
    "<h4><center> Fig: Accuracies of DeepConvNet Network with different activation function </center></h1>"
   ]
  },
  {
   "cell_type": "markdown",
   "metadata": {
    "ExecuteTime": {
     "end_time": "2019-08-12T21:22:50.208123Z",
     "start_time": "2019-08-12T21:22:50.203675Z"
    }
   },
   "source": [
    "# Discussion\n",
    "\n",
    "For better results, I fine tuned the parameters using grid search.\n",
    "\n",
    "| Activation | Dropout | Epoch Size|Batch Size| Learning Rate|Momentum|Test Accuracy|\n",
    "| --- | --- | --- | --- |--- | --- | --- | \n",
    "| LeakyReLU | 0.55 | 833 |320|0.45|0.11|88.05|\n",
    "| LeakyReLU | 0.55 | 833 |192|0.01|0.77|87.12|\n",
    "| ReLU | 0.66 | 833 |224|0.12|0.12|87.03|\n",
    "| LeakyReLU | 0.55 | 833 |224|0.45|0.55|88.5|\n",
    "| LeakyReLU | 0.44 | 1100 |160|0.23|0.22|88.4|\n",
    "\n",
    "The EEGNet outperforms DeepConvNet with LeakyReLU as acitvation function because EEGNet architecture is application specific for EEG signal related applications. Moreover, the hyperparameter grid search has not been performed for DeepConvNet. So, its not lag behind EEGNet if we select the right parameters.\n",
    "\n",
    "## Dropout Influence\n",
    "\n",
    "The dropout method is used in both the archtiectures. If dropout rate will be lower, more number of inputs bog down to zero whereas higher dropout will cause reduced test accuracy. So, there always a tradeoff between selecting a dropout rate. In our grid search results with ReLU as activation function, it shows that an optimum dropout rate lies between 0.44 - 0.55.\n",
    "\n",
    "![](img/dropout_relu.PNG)\n",
    "<h4><center> Fig: Network to implement </center></h1>"
   ]
  },
  {
   "cell_type": "markdown",
   "metadata": {},
   "source": [
    "# Back-Propagation Through Time (BPTT)\n",
    "\n",
    "Below is the mathematical derivation for BPTT.\n",
    "\n",
    "![](img/a.jpg)\n",
    "<h4><center> Fig: Derivation (Part 1) </center></h1>"
   ]
  },
  {
   "cell_type": "markdown",
   "metadata": {
    "ExecuteTime": {
     "end_time": "2019-08-13T00:06:09.093437Z",
     "start_time": "2019-08-13T00:06:08.977571Z"
    }
   },
   "source": [
    "![](img/b.jpg)\n",
    "<h4><center> Fig: Derivation (Part 2) </center></h1>"
   ]
  },
  {
   "cell_type": "markdown",
   "metadata": {
    "ExecuteTime": {
     "end_time": "2019-08-13T00:06:43.758927Z",
     "start_time": "2019-08-13T00:06:43.751498Z"
    }
   },
   "source": [
    "![](img/c.jpg)\n",
    "<h4><center> Fig: Derivation (Part 3) </center></h1>"
   ]
  },
  {
   "cell_type": "markdown",
   "metadata": {},
   "source": [
    "![](img/d.jpg)\n",
    "<h4><center> Fig: Derivation (Part 4) </center></h1>"
   ]
  },
  {
   "cell_type": "markdown",
   "metadata": {},
   "source": [
    "![](img/e.jpg)\n",
    "<h4><center> Fig: Derivation (Part 5) </center></h1>"
   ]
  },
  {
   "cell_type": "code",
   "execution_count": null,
   "metadata": {},
   "outputs": [],
   "source": []
  }
 ],
 "metadata": {
  "kernelspec": {
   "display_name": ".deep_2019s-env",
   "language": "python",
   "name": ".deep_2019s-env"
  },
  "language_info": {
   "codemirror_mode": {
    "name": "ipython",
    "version": 3
   },
   "file_extension": ".py",
   "mimetype": "text/x-python",
   "name": "python",
   "nbconvert_exporter": "python",
   "pygments_lexer": "ipython3",
   "version": "3.7.3"
  }
 },
 "nbformat": 4,
 "nbformat_minor": 2
}
